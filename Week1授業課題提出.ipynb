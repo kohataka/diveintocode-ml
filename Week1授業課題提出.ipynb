{
 "cells": [
  {
   "cell_type": "markdown",
   "metadata": {},
   "source": [
    "# 授業課題1 曽呂利新左衛門問題\n",
    "## 【問題1】100日目の米粒の数"
   ]
  },
  {
   "cell_type": "code",
   "execution_count": 1,
   "metadata": {},
   "outputs": [
    {
     "name": "stdout",
     "output_type": "stream",
     "text": [
      "100日目の米粒の数は、1267650600228229401496703205375粒\n"
     ]
    },
    {
     "data": {
      "image/png": "[encoded data removed]",
      "text/plain": [
       "<Figure size 432x288 with 1 Axes>"
      ]
     },
     "metadata": {
      "needs_background": "light"
     },
     "output_type": "display_data"
    }
   ],
   "source": [
    "DAY_NUM = 100\n",
    "counts = [] #日数\n",
    "processes = [] #米粒\n",
    "\n",
    "for i in range(DAY_NUM):\n",
    "    counts.append(1 + i)\n",
    "    processes.append(2 ** i)\n",
    "\n",
    "sum(processes)\n",
    "print(\"100日目の米粒の数は、\" + str(sum(processes)) + \"粒\")\n",
    "\n",
    "import matplotlib.pyplot as plt\n",
    "%matplotlib inline\n",
    "\n",
    "plt.title(\"Changes in rice volume\")\n",
    "plt.xlabel(\"day\")\n",
    "plt.ylabel(\"rice\")\n",
    "plt.plot(counts, processes)\n",
    "plt.show() "
   ]
  },
  {
   "cell_type": "markdown",
   "metadata": {},
   "source": [
    "## 【問題2】100日目以外の米粒の数\n",
    "受講する日数は67日で計算"
   ]
  },
  {
   "cell_type": "code",
   "execution_count": 2,
   "metadata": {},
   "outputs": [
    {
     "name": "stdout",
     "output_type": "stream",
     "text": [
      "([1, 2, 3, 4, 5, 6, 7, 8, 9, 10, 11, 12, 13, 14, 15, 16, 17, 18, 19, 20, 21, 22, 23, 24, 25, 26, 27, 28, 29, 30, 31, 32, 33, 34, 35, 36, 37, 38, 39, 40, 41, 42, 43, 44, 45, 46, 47, 48, 49, 50, 51, 52, 53, 54, 55, 56, 57, 58, 59, 60, 61, 62, 63, 64, 65, 66, 67], [1, 3, 7, 15, 31, 63, 127, 255, 511, 1023, 2047, 4095, 8191, 16383, 32767, 65535, 131071, 262143, 524287, 1048575, 2097151, 4194303, 8388607, 16777215, 33554431, 67108863, 134217727, 268435455, 536870911, 1073741823, 2147483647, 4294967295, 8589934591, 17179869183, 34359738367, 68719476735, 137438953471, 274877906943, 549755813887, 1099511627775, 2199023255551, 4398046511103, 8796093022207, 17592186044415, 35184372088831, 70368744177663, 140737488355327, 281474976710655, 562949953421311, 1125899906842623, 2251799813685247, 4503599627370495, 9007199254740991, 18014398509481983, 36028797018963967, 72057594037927935, 144115188075855871, 288230376151711743, 576460752303423487, 1152921504606846975, 2305843009213693951, 4611686018427387903, 9223372036854775807, 18446744073709551615, 36893488147419103231, 73786976294838206463, 147573952589676412927])\n"
     ]
    },
    {
     "data": {
      "image/png": "[encoded data removed]",
      "text/plain": [
       "<Figure size 432x288 with 1 Axes>"
      ]
     },
     "metadata": {
      "needs_background": "light"
     },
     "output_type": "display_data"
    }
   ],
   "source": [
    "def compute_sorori_shinzaemon(day=100):\n",
    "    counts = [] #日数\n",
    "    processes = [] #米粒\n",
    "    total_processes = [] #米粒の累積和\n",
    "    \n",
    "    for i in range(day):\n",
    "        counts.append(1 + i)\n",
    "        processes.append(2 ** i)\n",
    "        total_processes.append(sum(processes))\n",
    "    return counts, total_processes\n",
    "\n",
    "print(compute_sorori_shinzaemon(67))\n",
    "counts, total_processes = compute_sorori_shinzaemon(67)\n",
    "\n",
    "import matplotlib.pyplot as plt\n",
    "%matplotlib inline\n",
    "\n",
    "plt.title(\"Changes in rice volume\")\n",
    "plt.xlabel(\"day\")\n",
    "plt.ylabel(\"rice\")\n",
    "plt.plot(counts, total_processes)\n",
    "plt.show() "
   ]
  },
  {
   "cell_type": "markdown",
   "metadata": {},
   "source": [
    "## 【問題3】何人が何日生活できる米か\n",
    "受講する日数は67日で計算  \n",
    "受講生は13人  \n",
    "1日3食、1食あたり1杯のごはん（3250粒）を食べるものとする  \n",
    "\n",
    "参考URL  \n",
    "https://www.komenet.jp/_qa/chawanippai/chawan_ippai02.html"
   ]
  },
  {
   "cell_type": "code",
   "execution_count": 3,
   "metadata": {},
   "outputs": [
    {
     "name": "stdout",
     "output_type": "stream",
     "text": [
      "13人が1164291539169044日生活できる\n"
     ]
    }
   ],
   "source": [
    "def rice_days(total_rice, student = 13):\n",
    "    day_rice = 3250*3*student\n",
    "    days = total_rice // day_rice #小数点以下切り捨て\n",
    "    return student, days\n",
    "\n",
    "student, days = rice_days(total_processes[66])\n",
    "\n",
    "print(str(student) + \"人が\" + str(days) + \"日生活できる\")"
   ]
  },
  {
   "cell_type": "markdown",
   "metadata": {},
   "source": [
    "# 授業課題2 何回折ったら富士山を超えるか問題\n",
    "## 【問題1】富士山を超える最小の折る回数"
   ]
  },
  {
   "cell_type": "code",
   "execution_count": 4,
   "metadata": {},
   "outputs": [
    {
     "name": "stdout",
     "output_type": "stream",
     "text": [
      "26\n"
     ]
    },
    {
     "data": {
      "text/plain": [
       "True"
      ]
     },
     "execution_count": 4,
     "metadata": {},
     "output_type": "execute_result"
    }
   ],
   "source": [
    "FUJISAN = 3776\n",
    "ORIGIN_THICKNESS = 0.00008\n",
    "\n",
    "folded_thickness = ORIGIN_THICKNESS\n",
    "folded_count = 0\n",
    "\n",
    "while folded_thickness < FUJISAN:\n",
    "    folded_thickness *= 2\n",
    "    folded_count += 1\n",
    "\n",
    "print(folded_count)\n",
    "\n",
    "(ORIGIN_THICKNESS * 2 ** 26 > 3776) & (ORIGIN_THICKNESS * 2 ** 25 < 3776)"
   ]
  },
  {
   "cell_type": "markdown",
   "metadata": {},
   "source": [
    "## 【問題2】任意の厚さに対応した関数を作成\n",
    "\n",
    "最も近い太陽以外の恒星\tプロキシマ・ケンタウリ\t4.243光年　　\n",
    "https://ja.wikipedia.org/wiki/%E6%9C%80%E3%82%82%E8%BF%91%E3%81%84%E3%83%BB%E9%81%A0%E3%81%84%E5%A4%A9%E4%BD%93%E3%81%AE%E4%B8%80%E8%A6%A7\n",
    "\n",
    "1光年=9.4605×10^15mで計算  \n",
    "https://kotobank.jp/word/%E5%85%89%E5%B9%B4-62993"
   ]
  },
  {
   "cell_type": "code",
   "execution_count": 5,
   "metadata": {},
   "outputs": [
    {
     "name": "stdout",
     "output_type": "stream",
     "text": [
      "最も近い太陽以外の恒星に到達するには、紙を69回折る必要がある\n"
     ]
    }
   ],
   "source": [
    "PROXIMA = 4.243 * 9.4605 * 10 ** 15\n",
    "\n",
    "def xxxx(thickness = ORIGIN_THICKNESS, distance = PROXIMA):\n",
    "    folded_count = 0\n",
    "\n",
    "    while thickness < distance:\n",
    "        thickness *= 2\n",
    "        folded_count += 1    \n",
    "    return folded_count\n",
    "\n",
    "count = xxxx()\n",
    "print(\"最も近い太陽以外の恒星に到達するには、紙を\" + str(count) + \"回折る必要がある\")"
   ]
  },
  {
   "cell_type": "markdown",
   "metadata": {},
   "source": [
    "## 【問題3】必要な紙の長さ\n",
    "月：3844 * 10 ** 5 m  \n",
    "富士山：3776 m  \n",
    "最も近い太陽以外の恒星：PROXIMA = 4.243 * 9.4605 * 10 ** 15　m"
   ]
  },
  {
   "cell_type": "code",
   "execution_count": 6,
   "metadata": {},
   "outputs": [
    {
     "name": "stdout",
     "output_type": "stream",
     "text": [
      "月に到達するには、紙を43回折る必要がある\n"
     ]
    }
   ],
   "source": [
    "\"\"\"\n",
    "月に達する最小の折る回数\n",
    "\"\"\"\n",
    "count = xxxx(distance = 3884*10**5)\n",
    "print(\"月に到達するには、紙を\" + str(count) + \"回折る必要がある\")"
   ]
  },
  {
   "cell_type": "code",
   "execution_count": 7,
   "metadata": {},
   "outputs": [
    {
     "name": "stdout",
     "output_type": "stream",
     "text": [
      "月に届くために必要な紙の長さは、3.240919444170781e+21m\n",
      "富士山に届くために必要な紙の長さは、188646348487.24017m\n",
      "最も近い太陽以外の恒星に届くために必要な紙の長さは、1.4595803601100348e+37m\n"
     ]
    }
   ],
   "source": [
    "import math\n",
    "\n",
    "TUKI_COUNT = 43\n",
    "FUJISAN_COUNT = 26\n",
    "PROXIMA_COUNT = 69\n",
    "\n",
    "def yyyy(folded_count, thickness = ORIGIN_THICKNESS):\n",
    "    paper_length = math.pi * thickness / 6 * (2 ** folded_count + 4) * (2 ** folded_count -1)\n",
    "    return paper_length\n",
    "\n",
    "tuki_kaminagasa = yyyy(folded_count = TUKI_COUNT)\n",
    "fujisan_kaminagasa = yyyy(folded_count = FUJISAN_COUNT)\n",
    "proxima_kaminagasa = yyyy(folded_count = PROXIMA_COUNT)\n",
    "\n",
    "print(\"月に届くために必要な紙の長さは、\" + str(tuki_kaminagasa) + \"m\")\n",
    "print(\"富士山に届くために必要な紙の長さは、\" + str(fujisan_kaminagasa) + \"m\")\n",
    "print(\"最も近い太陽以外の恒星に届くために必要な紙の長さは、\" + str(proxima_kaminagasa) + \"m\")"
   ]
  },
  {
   "cell_type": "markdown",
   "metadata": {},
   "source": [
    "# 授業課題3 栗まんじゅう問題\n",
    "## 【問題】栗まんじゅうが太陽系を覆う日\n",
    "\n",
    "栗まんじゅうの体積を10^4㎥  \n",
    "太陽系の体積を1.575光年を半径とする球体と考える  \n",
    "※太陽から太陽系の端っこ（オールトの雲の端っこ）までは1.575光年  \n",
    "東京ドームの体積を124 * 10^4㎥  \n",
    "地球の体積を1.083207 * 10^21㎡で計算  \n",
    "\n",
    "参考URL  \n",
    "・栗まんじゅうの体積  \n",
    "https://www.sekkachi.com/entry/bibin_consideration　　   \n",
    "・太陽系の体積　　   \n",
    "https://again.lunaclear.com/knowledge/science/t124/　　   \n",
    "・東京ドームの体積　　\n",
    "https://ja.wikipedia.org/wiki/%E6%9D%B1%E4%BA%AC%E3%83%89%E3%83%BC%E3%83%A0_(%E5%8D%98%E4%BD%8D)　　   \n",
    "・地球の体積　　   \n",
    "https://ja.wikipedia.org/wiki/%E5%9C%B0%E7%90%83\n",
    "\n",
    "\n",
    "\n"
   ]
  },
  {
   "cell_type": "code",
   "execution_count": 8,
   "metadata": {},
   "outputs": [],
   "source": [
    "import math\n",
    "\n",
    "KURI =10**-4\n",
    "TAIYO = 4/3*math.pi*(1.575*9.4605*10**15)** 3\n",
    "TOKYODOME = 124*10**4\n",
    "EARTH = 1.083207*10**21\n",
    "\n",
    "def origin_count(threshold, origin_vol = KURI):\n",
    "    count = 0\n",
    "    processes = []\n",
    "    processes.append(origin_vol)\n",
    "    while origin_vol < threshold:\n",
    "        origin_vol *= 2\n",
    "        processes.append(origin_vol)\n",
    "        count += 1\n",
    "    return count*5, (count +1)*5, processes #1番目は解答の時間、２番目はグラフのx軸、3番目は栗まんじゅうの増加リスト"
   ]
  },
  {
   "cell_type": "code",
   "execution_count": 9,
   "metadata": {},
   "outputs": [
    {
     "name": "stdout",
     "output_type": "stream",
     "text": [
      "太陽系が一杯になる時間は、885分\n"
     ]
    },
    {
     "data": {
      "image/png": "[encoded data removed]",
      "text/plain": [
       "<Figure size 432x288 with 1 Axes>"
      ]
     },
     "metadata": {
      "needs_background": "light"
     },
     "output_type": "display_data"
    }
   ],
   "source": [
    "xyz = origin_count(threshold = TAIYO)\n",
    "x_plot = list(range(xyz[1]))[::5]\n",
    "y_plot = xyz[2]\n",
    "print(\"太陽系が一杯になる時間は、\" + str(xyz[0]) + \"分\")\n",
    "\n",
    "import matplotlib.pyplot as plt\n",
    "%matplotlib inline\n",
    "\n",
    "plt.title(\"Changes in Manju volume\")\n",
    "plt.xlabel(\"minute\")\n",
    "plt.ylabel(\"Manju volume\")\n",
    "plt.plot(x_plot, y_plot)\n",
    "plt.show() "
   ]
  },
  {
   "cell_type": "code",
   "execution_count": 10,
   "metadata": {
    "scrolled": true
   },
   "outputs": [
    {
     "name": "stdout",
     "output_type": "stream",
     "text": [
      "東京ドームが一杯になる時間は、170分\n"
     ]
    },
    {
     "data": {
      "image/png": "[encoded data removed]",
      "text/plain": [
       "<Figure size 432x288 with 1 Axes>"
      ]
     },
     "metadata": {
      "needs_background": "light"
     },
     "output_type": "display_data"
    }
   ],
   "source": [
    "xyz = origin_count(threshold = TOKYODOME)\n",
    "x_plot = list(range(xyz[1]))[::5]\n",
    "y_plot = xyz[2]\n",
    "print(\"東京ドームが一杯になる時間は、\" + str(xyz[0]) + \"分\")\n",
    "\n",
    "import matplotlib.pyplot as plt\n",
    "%matplotlib inline\n",
    "\n",
    "plt.title(\"Changes in Manju volume\")\n",
    "plt.xlabel(\"minute\")\n",
    "plt.ylabel(\"Manju volume\")\n",
    "plt.plot(x_plot, y_plot)\n",
    "plt.show() "
   ]
  },
  {
   "cell_type": "code",
   "execution_count": 11,
   "metadata": {},
   "outputs": [
    {
     "name": "stdout",
     "output_type": "stream",
     "text": [
      "地球が一杯になる時間は、420分\n"
     ]
    },
    {
     "data": {
      "image/png": "[encoded data removed]",
      "text/plain": [
       "<Figure size 432x288 with 1 Axes>"
      ]
     },
     "metadata": {
      "needs_background": "light"
     },
     "output_type": "display_data"
    }
   ],
   "source": [
    "xyz = origin_count(threshold = EARTH)\n",
    "x_plot = list(range(xyz[1]))[::5]\n",
    "y_plot = xyz[2]\n",
    "print(\"地球が一杯になる時間は、\" + str(xyz[0]) + \"分\")\n",
    "\n",
    "import matplotlib.pyplot as plt\n",
    "%matplotlib inline\n",
    "\n",
    "plt.title(\"Changes in Manju volume\")\n",
    "plt.xlabel(\"minute\")\n",
    "plt.ylabel(\"Manju volume\")\n",
    "plt.plot(x_plot, y_plot)\n",
    "plt.show() "
   ]
  }
 ],
 "metadata": {
  "kernelspec": {
   "display_name": "Python 3",
   "language": "python",
   "name": "python3"
  },
  "language_info": {
   "codemirror_mode": {
    "name": "ipython",
    "version": 3
   },
   "file_extension": ".py",
   "mimetype": "text/x-python",
   "name": "python",
   "nbconvert_exporter": "python",
   "pygments_lexer": "ipython3",
   "version": "3.7.4"
  }
 },
 "nbformat": 4,
 "nbformat_minor": 2
}
