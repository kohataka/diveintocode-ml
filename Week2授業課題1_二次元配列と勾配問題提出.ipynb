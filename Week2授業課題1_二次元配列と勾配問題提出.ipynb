{
 "cells": [
  {
   "cell_type": "markdown",
   "metadata": {},
   "source": [
    "## 【問題1】1次関数"
   ]
  },
  {
   "cell_type": "code",
   "execution_count": 1,
   "metadata": {},
   "outputs": [
    {
     "name": "stdout",
     "output_type": "stream",
     "text": [
      "[-50.  -49.9 -49.8 ...  49.8  49.9  50. ]\n",
      "[-24.   -23.95 -23.9  ...  25.9   25.95  26.  ]\n"
     ]
    }
   ],
   "source": [
    "import numpy as np\n",
    "x_ndarray = np.arange(-50, 50.1, 0.1)\n",
    "y_ndarray = 1/2*x_ndarray + 1\n",
    "print(x_ndarray)\n",
    "print(y_ndarray)"
   ]
  },
  {
   "cell_type": "markdown",
   "metadata": {},
   "source": [
    "## 【問題2】配列の結合"
   ]
  },
  {
   "cell_type": "code",
   "execution_count": 2,
   "metadata": {
    "scrolled": true
   },
   "outputs": [
    {
     "data": {
      "text/plain": [
       "(1001,)"
      ]
     },
     "execution_count": 2,
     "metadata": {},
     "output_type": "execute_result"
    }
   ],
   "source": [
    "x_ndarray.shape"
   ]
  },
  {
   "cell_type": "code",
   "execution_count": 3,
   "metadata": {},
   "outputs": [
    {
     "data": {
      "text/plain": [
       "(1001,)"
      ]
     },
     "execution_count": 3,
     "metadata": {},
     "output_type": "execute_result"
    }
   ],
   "source": [
    "y_ndarray.shape"
   ]
  },
  {
   "cell_type": "code",
   "execution_count": 4,
   "metadata": {},
   "outputs": [
    {
     "data": {
      "text/plain": [
       "array([[-50.  , -24.  ],\n",
       "       [-49.9 , -23.95],\n",
       "       [-49.8 , -23.9 ],\n",
       "       ...,\n",
       "       [ 49.8 ,  25.9 ],\n",
       "       [ 49.9 ,  25.95],\n",
       "       [ 50.  ,  26.  ]])"
      ]
     },
     "execution_count": 4,
     "metadata": {},
     "output_type": "execute_result"
    }
   ],
   "source": [
    "# reshape後にaxis=1で結合\n",
    "\n",
    "np.concatenate([x_ndarray.reshape(1001, 1), y_ndarray.reshape(1001, 1)], 1)"
   ]
  },
  {
   "cell_type": "code",
   "execution_count": 5,
   "metadata": {},
   "outputs": [
    {
     "data": {
      "text/plain": [
       "array([[-50.  , -24.  ],\n",
       "       [-49.9 , -23.95],\n",
       "       [-49.8 , -23.9 ],\n",
       "       ...,\n",
       "       [ 49.8 ,  25.9 ],\n",
       "       [ 49.9 ,  25.95],\n",
       "       [ 50.  ,  26.  ]])"
      ]
     },
     "execution_count": 5,
     "metadata": {},
     "output_type": "execute_result"
    }
   ],
   "source": [
    "# 結合してreshape後に転置\n",
    "\n",
    "np.transpose((np.concatenate([x_ndarray,y_ndarray])).reshape(2, 1001))"
   ]
  },
  {
   "cell_type": "markdown",
   "metadata": {},
   "source": [
    "## 【問題3】勾配を求める"
   ]
  },
  {
   "cell_type": "code",
   "execution_count": 6,
   "metadata": {},
   "outputs": [
    {
     "data": {
      "text/plain": [
       "array([[0.1 , 0.05],\n",
       "       [0.1 , 0.05],\n",
       "       [0.1 , 0.05],\n",
       "       ...,\n",
       "       [0.1 , 0.05],\n",
       "       [0.1 , 0.05],\n",
       "       [0.1 , 0.05]])"
      ]
     },
     "execution_count": 6,
     "metadata": {},
     "output_type": "execute_result"
    }
   ],
   "source": [
    "# 問題2を変数に代入\n",
    "join = np.concatenate([x_ndarray.reshape(1001, 1), y_ndarray.reshape(1001, 1)], 1)\n",
    "\n",
    "# 最初の行と最後の行を削除した配列をスライスして作成\n",
    "# 2つ作るのは形が同じ配列同士で差を計算するため\n",
    "\n",
    "join_first = join[1:]\n",
    "join_last = join[:-1]\n",
    "\n",
    "difference = join_first - join_last\n",
    "difference"
   ]
  },
  {
   "cell_type": "code",
   "execution_count": 7,
   "metadata": {},
   "outputs": [
    {
     "data": {
      "text/plain": [
       "(1000, 2)"
      ]
     },
     "execution_count": 7,
     "metadata": {},
     "output_type": "execute_result"
    }
   ],
   "source": [
    "difference.shape"
   ]
  },
  {
   "cell_type": "code",
   "execution_count": 8,
   "metadata": {},
   "outputs": [
    {
     "data": {
      "text/plain": [
       "array([0.5, 0.5, 0.5, 0.5, 0.5, 0.5, 0.5, 0.5, 0.5, 0.5, 0.5, 0.5, 0.5,\n",
       "       0.5, 0.5, 0.5, 0.5, 0.5, 0.5, 0.5, 0.5, 0.5, 0.5, 0.5, 0.5, 0.5,\n",
       "       0.5, 0.5, 0.5, 0.5, 0.5, 0.5, 0.5, 0.5, 0.5, 0.5, 0.5, 0.5, 0.5,\n",
       "       0.5, 0.5, 0.5, 0.5, 0.5, 0.5, 0.5, 0.5, 0.5, 0.5, 0.5, 0.5, 0.5,\n",
       "       0.5, 0.5, 0.5, 0.5, 0.5, 0.5, 0.5, 0.5, 0.5, 0.5, 0.5, 0.5, 0.5,\n",
       "       0.5, 0.5, 0.5, 0.5, 0.5, 0.5, 0.5, 0.5, 0.5, 0.5, 0.5, 0.5, 0.5,\n",
       "       0.5, 0.5, 0.5, 0.5, 0.5, 0.5, 0.5, 0.5, 0.5, 0.5, 0.5, 0.5, 0.5,\n",
       "       0.5, 0.5, 0.5, 0.5, 0.5, 0.5, 0.5, 0.5, 0.5, 0.5, 0.5, 0.5, 0.5,\n",
       "       0.5, 0.5, 0.5, 0.5, 0.5, 0.5, 0.5, 0.5, 0.5, 0.5, 0.5, 0.5, 0.5,\n",
       "       0.5, 0.5, 0.5, 0.5, 0.5, 0.5, 0.5, 0.5, 0.5, 0.5, 0.5, 0.5, 0.5,\n",
       "       0.5, 0.5, 0.5, 0.5, 0.5, 0.5, 0.5, 0.5, 0.5, 0.5, 0.5, 0.5, 0.5,\n",
       "       0.5, 0.5, 0.5, 0.5, 0.5, 0.5, 0.5, 0.5, 0.5, 0.5, 0.5, 0.5, 0.5,\n",
       "       0.5, 0.5, 0.5, 0.5, 0.5, 0.5, 0.5, 0.5, 0.5, 0.5, 0.5, 0.5, 0.5,\n",
       "       0.5, 0.5, 0.5, 0.5, 0.5, 0.5, 0.5, 0.5, 0.5, 0.5, 0.5, 0.5, 0.5,\n",
       "       0.5, 0.5, 0.5, 0.5, 0.5, 0.5, 0.5, 0.5, 0.5, 0.5, 0.5, 0.5, 0.5,\n",
       "       0.5, 0.5, 0.5, 0.5, 0.5, 0.5, 0.5, 0.5, 0.5, 0.5, 0.5, 0.5, 0.5,\n",
       "       0.5, 0.5, 0.5, 0.5, 0.5, 0.5, 0.5, 0.5, 0.5, 0.5, 0.5, 0.5, 0.5,\n",
       "       0.5, 0.5, 0.5, 0.5, 0.5, 0.5, 0.5, 0.5, 0.5, 0.5, 0.5, 0.5, 0.5,\n",
       "       0.5, 0.5, 0.5, 0.5, 0.5, 0.5, 0.5, 0.5, 0.5, 0.5, 0.5, 0.5, 0.5,\n",
       "       0.5, 0.5, 0.5, 0.5, 0.5, 0.5, 0.5, 0.5, 0.5, 0.5, 0.5, 0.5, 0.5,\n",
       "       0.5, 0.5, 0.5, 0.5, 0.5, 0.5, 0.5, 0.5, 0.5, 0.5, 0.5, 0.5, 0.5,\n",
       "       0.5, 0.5, 0.5, 0.5, 0.5, 0.5, 0.5, 0.5, 0.5, 0.5, 0.5, 0.5, 0.5,\n",
       "       0.5, 0.5, 0.5, 0.5, 0.5, 0.5, 0.5, 0.5, 0.5, 0.5, 0.5, 0.5, 0.5,\n",
       "       0.5, 0.5, 0.5, 0.5, 0.5, 0.5, 0.5, 0.5, 0.5, 0.5, 0.5, 0.5, 0.5,\n",
       "       0.5, 0.5, 0.5, 0.5, 0.5, 0.5, 0.5, 0.5, 0.5, 0.5, 0.5, 0.5, 0.5,\n",
       "       0.5, 0.5, 0.5, 0.5, 0.5, 0.5, 0.5, 0.5, 0.5, 0.5, 0.5, 0.5, 0.5,\n",
       "       0.5, 0.5, 0.5, 0.5, 0.5, 0.5, 0.5, 0.5, 0.5, 0.5, 0.5, 0.5, 0.5,\n",
       "       0.5, 0.5, 0.5, 0.5, 0.5, 0.5, 0.5, 0.5, 0.5, 0.5, 0.5, 0.5, 0.5,\n",
       "       0.5, 0.5, 0.5, 0.5, 0.5, 0.5, 0.5, 0.5, 0.5, 0.5, 0.5, 0.5, 0.5,\n",
       "       0.5, 0.5, 0.5, 0.5, 0.5, 0.5, 0.5, 0.5, 0.5, 0.5, 0.5, 0.5, 0.5,\n",
       "       0.5, 0.5, 0.5, 0.5, 0.5, 0.5, 0.5, 0.5, 0.5, 0.5, 0.5, 0.5, 0.5,\n",
       "       0.5, 0.5, 0.5, 0.5, 0.5, 0.5, 0.5, 0.5, 0.5, 0.5, 0.5, 0.5, 0.5,\n",
       "       0.5, 0.5, 0.5, 0.5, 0.5, 0.5, 0.5, 0.5, 0.5, 0.5, 0.5, 0.5, 0.5,\n",
       "       0.5, 0.5, 0.5, 0.5, 0.5, 0.5, 0.5, 0.5, 0.5, 0.5, 0.5, 0.5, 0.5,\n",
       "       0.5, 0.5, 0.5, 0.5, 0.5, 0.5, 0.5, 0.5, 0.5, 0.5, 0.5, 0.5, 0.5,\n",
       "       0.5, 0.5, 0.5, 0.5, 0.5, 0.5, 0.5, 0.5, 0.5, 0.5, 0.5, 0.5, 0.5,\n",
       "       0.5, 0.5, 0.5, 0.5, 0.5, 0.5, 0.5, 0.5, 0.5, 0.5, 0.5, 0.5, 0.5,\n",
       "       0.5, 0.5, 0.5, 0.5, 0.5, 0.5, 0.5, 0.5, 0.5, 0.5, 0.5, 0.5, 0.5,\n",
       "       0.5, 0.5, 0.5, 0.5, 0.5, 0.5, 0.5, 0.5, 0.5, 0.5, 0.5, 0.5, 0.5,\n",
       "       0.5, 0.5, 0.5, 0.5, 0.5, 0.5, 0.5, 0.5, 0.5, 0.5, 0.5, 0.5, 0.5,\n",
       "       0.5, 0.5, 0.5, 0.5, 0.5, 0.5, 0.5, 0.5, 0.5, 0.5, 0.5, 0.5, 0.5,\n",
       "       0.5, 0.5, 0.5, 0.5, 0.5, 0.5, 0.5, 0.5, 0.5, 0.5, 0.5, 0.5, 0.5,\n",
       "       0.5, 0.5, 0.5, 0.5, 0.5, 0.5, 0.5, 0.5, 0.5, 0.5, 0.5, 0.5, 0.5,\n",
       "       0.5, 0.5, 0.5, 0.5, 0.5, 0.5, 0.5, 0.5, 0.5, 0.5, 0.5, 0.5, 0.5,\n",
       "       0.5, 0.5, 0.5, 0.5, 0.5, 0.5, 0.5, 0.5, 0.5, 0.5, 0.5, 0.5, 0.5,\n",
       "       0.5, 0.5, 0.5, 0.5, 0.5, 0.5, 0.5, 0.5, 0.5, 0.5, 0.5, 0.5, 0.5,\n",
       "       0.5, 0.5, 0.5, 0.5, 0.5, 0.5, 0.5, 0.5, 0.5, 0.5, 0.5, 0.5, 0.5,\n",
       "       0.5, 0.5, 0.5, 0.5, 0.5, 0.5, 0.5, 0.5, 0.5, 0.5, 0.5, 0.5, 0.5,\n",
       "       0.5, 0.5, 0.5, 0.5, 0.5, 0.5, 0.5, 0.5, 0.5, 0.5, 0.5, 0.5, 0.5,\n",
       "       0.5, 0.5, 0.5, 0.5, 0.5, 0.5, 0.5, 0.5, 0.5, 0.5, 0.5, 0.5, 0.5,\n",
       "       0.5, 0.5, 0.5, 0.5, 0.5, 0.5, 0.5, 0.5, 0.5, 0.5, 0.5, 0.5, 0.5,\n",
       "       0.5, 0.5, 0.5, 0.5, 0.5, 0.5, 0.5, 0.5, 0.5, 0.5, 0.5, 0.5, 0.5,\n",
       "       0.5, 0.5, 0.5, 0.5, 0.5, 0.5, 0.5, 0.5, 0.5, 0.5, 0.5, 0.5, 0.5,\n",
       "       0.5, 0.5, 0.5, 0.5, 0.5, 0.5, 0.5, 0.5, 0.5, 0.5, 0.5, 0.5, 0.5,\n",
       "       0.5, 0.5, 0.5, 0.5, 0.5, 0.5, 0.5, 0.5, 0.5, 0.5, 0.5, 0.5, 0.5,\n",
       "       0.5, 0.5, 0.5, 0.5, 0.5, 0.5, 0.5, 0.5, 0.5, 0.5, 0.5, 0.5, 0.5,\n",
       "       0.5, 0.5, 0.5, 0.5, 0.5, 0.5, 0.5, 0.5, 0.5, 0.5, 0.5, 0.5, 0.5,\n",
       "       0.5, 0.5, 0.5, 0.5, 0.5, 0.5, 0.5, 0.5, 0.5, 0.5, 0.5, 0.5, 0.5,\n",
       "       0.5, 0.5, 0.5, 0.5, 0.5, 0.5, 0.5, 0.5, 0.5, 0.5, 0.5, 0.5, 0.5,\n",
       "       0.5, 0.5, 0.5, 0.5, 0.5, 0.5, 0.5, 0.5, 0.5, 0.5, 0.5, 0.5, 0.5,\n",
       "       0.5, 0.5, 0.5, 0.5, 0.5, 0.5, 0.5, 0.5, 0.5, 0.5, 0.5, 0.5, 0.5,\n",
       "       0.5, 0.5, 0.5, 0.5, 0.5, 0.5, 0.5, 0.5, 0.5, 0.5, 0.5, 0.5, 0.5,\n",
       "       0.5, 0.5, 0.5, 0.5, 0.5, 0.5, 0.5, 0.5, 0.5, 0.5, 0.5, 0.5, 0.5,\n",
       "       0.5, 0.5, 0.5, 0.5, 0.5, 0.5, 0.5, 0.5, 0.5, 0.5, 0.5, 0.5, 0.5,\n",
       "       0.5, 0.5, 0.5, 0.5, 0.5, 0.5, 0.5, 0.5, 0.5, 0.5, 0.5, 0.5, 0.5,\n",
       "       0.5, 0.5, 0.5, 0.5, 0.5, 0.5, 0.5, 0.5, 0.5, 0.5, 0.5, 0.5, 0.5,\n",
       "       0.5, 0.5, 0.5, 0.5, 0.5, 0.5, 0.5, 0.5, 0.5, 0.5, 0.5, 0.5, 0.5,\n",
       "       0.5, 0.5, 0.5, 0.5, 0.5, 0.5, 0.5, 0.5, 0.5, 0.5, 0.5, 0.5, 0.5,\n",
       "       0.5, 0.5, 0.5, 0.5, 0.5, 0.5, 0.5, 0.5, 0.5, 0.5, 0.5, 0.5, 0.5,\n",
       "       0.5, 0.5, 0.5, 0.5, 0.5, 0.5, 0.5, 0.5, 0.5, 0.5, 0.5, 0.5, 0.5,\n",
       "       0.5, 0.5, 0.5, 0.5, 0.5, 0.5, 0.5, 0.5, 0.5, 0.5, 0.5, 0.5, 0.5,\n",
       "       0.5, 0.5, 0.5, 0.5, 0.5, 0.5, 0.5, 0.5, 0.5, 0.5, 0.5, 0.5, 0.5,\n",
       "       0.5, 0.5, 0.5, 0.5, 0.5, 0.5, 0.5, 0.5, 0.5, 0.5, 0.5, 0.5, 0.5,\n",
       "       0.5, 0.5, 0.5, 0.5, 0.5, 0.5, 0.5, 0.5, 0.5, 0.5, 0.5, 0.5, 0.5,\n",
       "       0.5, 0.5, 0.5, 0.5, 0.5, 0.5, 0.5, 0.5, 0.5, 0.5, 0.5, 0.5, 0.5,\n",
       "       0.5, 0.5, 0.5, 0.5, 0.5, 0.5, 0.5, 0.5, 0.5, 0.5, 0.5, 0.5, 0.5,\n",
       "       0.5, 0.5, 0.5, 0.5, 0.5, 0.5, 0.5, 0.5, 0.5, 0.5, 0.5, 0.5])"
      ]
     },
     "execution_count": 8,
     "metadata": {},
     "output_type": "execute_result"
    }
   ],
   "source": [
    "# 勾配を求める\n",
    "\n",
    "slope = difference[:,1] / difference[:,0]\n",
    "slope"
   ]
  },
  {
   "cell_type": "code",
   "execution_count": 9,
   "metadata": {},
   "outputs": [
    {
     "data": {
      "text/plain": [
       "(1000,)"
      ]
     },
     "execution_count": 9,
     "metadata": {},
     "output_type": "execute_result"
    }
   ],
   "source": [
    "slope.shape"
   ]
  },
  {
   "cell_type": "markdown",
   "metadata": {},
   "source": [
    "## 【問題4】グラフを描く"
   ]
  },
  {
   "cell_type": "code",
   "execution_count": 10,
   "metadata": {},
   "outputs": [
    {
     "data": {
      "image/png": "[encoded data removed]",
      "text/plain": [
       "<Figure size 432x288 with 1 Axes>"
      ]
     },
     "metadata": {
      "needs_background": "light"
     },
     "output_type": "display_data"
    }
   ],
   "source": [
    "import matplotlib.pyplot as plt\n",
    "%matplotlib inline\n",
    "\n",
    "# １次関数のグラフ\n",
    "\n",
    "x_plot = x_ndarray\n",
    "y_plot = y_ndarray\n",
    "\n",
    "plt.xlabel(\"x\")\n",
    "plt.ylabel(\"y\")\n",
    "plt.title(\"linear function\")\n",
    "plt.plot(x_plot, y_plot)\n",
    "plt.show()"
   ]
  },
  {
   "cell_type": "code",
   "execution_count": 11,
   "metadata": {},
   "outputs": [
    {
     "data": {
      "text/plain": [
       "(1001,)"
      ]
     },
     "execution_count": 11,
     "metadata": {},
     "output_type": "execute_result"
    }
   ],
   "source": [
    "x_ndarray.shape"
   ]
  },
  {
   "cell_type": "code",
   "execution_count": 12,
   "metadata": {},
   "outputs": [
    {
     "data": {
      "text/plain": [
       "(1000,)"
      ]
     },
     "execution_count": 12,
     "metadata": {},
     "output_type": "execute_result"
    }
   ],
   "source": [
    "slope.shape"
   ]
  },
  {
   "cell_type": "code",
   "execution_count": 13,
   "metadata": {
    "scrolled": true
   },
   "outputs": [
    {
     "data": {
      "image/png": "[encoded data removed]",
      "text/plain": [
       "<Figure size 432x288 with 1 Axes>"
      ]
     },
     "metadata": {
      "needs_background": "light"
     },
     "output_type": "display_data"
    }
   ],
   "source": [
    "# 横軸をx、縦軸を勾配\n",
    "\n",
    "x_plot = x_ndarray[0:-1]  #要素数を1000にするためスライス\n",
    "y_plot = slope  #要素数が1000\n",
    "\n",
    "plt.xlabel(\"x\")\n",
    "plt.ylabel(\"slope\")\n",
    "plt.title(\"x and slope\")\n",
    "plt.plot(x_plot, y_plot)\n",
    "plt.show()"
   ]
  },
  {
   "cell_type": "markdown",
   "metadata": {},
   "source": [
    "## 【問題5】Pythonの関数化"
   ]
  },
  {
   "cell_type": "code",
   "execution_count": 14,
   "metadata": {},
   "outputs": [],
   "source": [
    "def compute_gradient(function, x_range=(-50, 50.1, 0.1)):\n",
    "    #array_x = np.arange(*x_range)\n",
    "    array_x = x\n",
    "    array_y = function\n",
    "    array_xy = np.concatenate([array_x.reshape(-1, 1), array_y.reshape(-1, 1)], 1)  #最終行を1001で表してたのを-1に修正\n",
    "    array_xy_first = array_xy[1:]\n",
    "    array_xy_last = array_xy[:-1]\n",
    "    difference = array_xy_first - array_xy_last\n",
    "    gradient = difference[:,1] / difference[:,0]\n",
    "    return array_xy, gradient"
   ]
  },
  {
   "cell_type": "markdown",
   "metadata": {},
   "source": [
    "$\n",
    "・y = x^2　(-50\\leqq x\\leqq50)\n",
    "$"
   ]
  },
  {
   "cell_type": "code",
   "execution_count": 15,
   "metadata": {},
   "outputs": [],
   "source": [
    "def function1(array_x):\n",
    "    array_y = array_x**2\n",
    "    return array_y"
   ]
  },
  {
   "cell_type": "code",
   "execution_count": 16,
   "metadata": {},
   "outputs": [
    {
     "data": {
      "text/plain": [
       "array([2500.  , 2490.01, 2480.04, ..., 2480.04, 2490.01, 2500.  ])"
      ]
     },
     "execution_count": 16,
     "metadata": {},
     "output_type": "execute_result"
    }
   ],
   "source": [
    "x = np.arange(-50, 50.1, 0.1)\n",
    "y = x**2\n",
    "\n",
    "function1(x)"
   ]
  },
  {
   "cell_type": "code",
   "execution_count": 17,
   "metadata": {},
   "outputs": [],
   "source": [
    "xy, gradient1 = compute_gradient(function1(x), x)"
   ]
  },
  {
   "cell_type": "code",
   "execution_count": 18,
   "metadata": {},
   "outputs": [
    {
     "data": {
      "image/png": "[encoded data removed]",
      "text/plain": [
       "<Figure size 432x288 with 1 Axes>"
      ]
     },
     "metadata": {
      "needs_background": "light"
     },
     "output_type": "display_data"
    }
   ],
   "source": [
    "#y=x^2のグラフ\n",
    "import matplotlib.pyplot as plt  # Matplotlib を読み込む\n",
    "plt.plot(x, y)  # x, y をプロット\n",
    "plt.show()  # グラフを表示"
   ]
  },
  {
   "cell_type": "code",
   "execution_count": 19,
   "metadata": {},
   "outputs": [
    {
     "data": {
      "image/png": "[encoded data removed]",
      "text/plain": [
       "<Figure size 432x288 with 1 Axes>"
      ]
     },
     "metadata": {
      "needs_background": "light"
     },
     "output_type": "display_data"
    }
   ],
   "source": [
    "#xと勾配のグラフ\n",
    "plt.plot(x[1:], gradient1)  # x, y をプロット\n",
    "plt.show()  # グラフを表示"
   ]
  },
  {
   "cell_type": "markdown",
   "metadata": {},
   "source": [
    "$\n",
    "・y=2x^2+2^x　(-50\\leqq x\\leqq50)\n",
    "$"
   ]
  },
  {
   "cell_type": "code",
   "execution_count": 20,
   "metadata": {},
   "outputs": [],
   "source": [
    "def function2(array_x):\n",
    "    array_y = 2*array_x**2 + 2**array_x\n",
    "    return array_y"
   ]
  },
  {
   "cell_type": "code",
   "execution_count": 21,
   "metadata": {},
   "outputs": [
    {
     "data": {
      "text/plain": [
       "array([5.00000000e+03, 4.98002000e+03, 4.96008000e+03, ...,\n",
       "       9.80152798e+14, 1.05050176e+15, 1.12589991e+15])"
      ]
     },
     "execution_count": 21,
     "metadata": {},
     "output_type": "execute_result"
    }
   ],
   "source": [
    "x = np.arange(-50, 50.1, 0.1)\n",
    "y = 2*x**2 + 2**x\n",
    "\n",
    "function2(x)"
   ]
  },
  {
   "cell_type": "code",
   "execution_count": 22,
   "metadata": {},
   "outputs": [],
   "source": [
    "xy, gradient2 = compute_gradient(function2(x), x)"
   ]
  },
  {
   "cell_type": "code",
   "execution_count": 23,
   "metadata": {},
   "outputs": [
    {
     "data": {
      "image/png": "[encoded data removed]",
      "text/plain": [
       "<Figure size 432x288 with 1 Axes>"
      ]
     },
     "metadata": {
      "needs_background": "light"
     },
     "output_type": "display_data"
    }
   ],
   "source": [
    "#y=2x^2+2^xのグラフ\n",
    "plt.plot(x, y)  # x, y をプロット\n",
    "plt.show()  # グラフを表示"
   ]
  },
  {
   "cell_type": "code",
   "execution_count": 24,
   "metadata": {},
   "outputs": [
    {
     "data": {
      "image/png": "[encoded data removed]",
      "text/plain": [
       "<Figure size 432x288 with 1 Axes>"
      ]
     },
     "metadata": {
      "needs_background": "light"
     },
     "output_type": "display_data"
    }
   ],
   "source": [
    "#xと勾配のグラフ\n",
    "plt.plot(x[1:], gradient2)  # x, y をプロット\n",
    "plt.show()  # グラフを表示"
   ]
  },
  {
   "cell_type": "markdown",
   "metadata": {},
   "source": [
    "$\n",
    "・y = \\mathrm{sin}(x^\\frac{1}{2}) \\quad (0\\leqq x\\leqq50)\n",
    "$"
   ]
  },
  {
   "cell_type": "code",
   "execution_count": 25,
   "metadata": {},
   "outputs": [],
   "source": [
    "def function3(array_x):\n",
    "    array_y = np.sin(array_x**(1/2))\n",
    "    return array_y"
   ]
  },
  {
   "cell_type": "code",
   "execution_count": 26,
   "metadata": {},
   "outputs": [
    {
     "data": {
      "text/plain": [
       "array([ 0.        ,  0.31098359,  0.43245484,  0.5207443 ,  0.59112712,\n",
       "        0.64963694,  0.69942787,  0.74240966,  0.77985065,  0.8126489 ,\n",
       "        0.84147098,  0.86682993,  0.88913204,  0.90870674,  0.92582627,\n",
       "        0.94071933,  0.95358074,  0.9645784 ,  0.97385857,  0.98154978,\n",
       "        0.98776595,  0.99260871,  0.99616937,  0.99853039,  0.99976666,\n",
       "        0.99994652,  0.99913255,  0.99738234,  0.99474904,  0.9912819 ,\n",
       "        0.98702664,  0.98202588,  0.9763194 ,  0.96994446,  0.96293601,\n",
       "        0.95532692,  0.94714816,  0.93842893,  0.92919686,  0.91947809,\n",
       "        0.90929743,  0.8986784 ,  0.88764339,  0.87621369,  0.86440961,\n",
       "        0.85225051,  0.83975487,  0.82694036,  0.81382389,  0.80042165,\n",
       "        0.78674913,  0.77282122,  0.75865218,  0.74425571,  0.72964498,\n",
       "        0.71483266,  0.6998309 ,  0.68465144,  0.66930556,  0.65380413,\n",
       "        0.63815764,  0.62237617,  0.60646949,  0.590447  ,  0.57431777,\n",
       "        0.55809058,  0.54177389,  0.5253759 ,  0.5089045 ,  0.49236735,\n",
       "        0.47577184,  0.45912512,  0.44243411,  0.42570551,  0.4089458 ,\n",
       "        0.39216125,  0.37535792,  0.35854171,  0.34171829,  0.32489319,\n",
       "        0.30807174,  0.29125912,  0.27446034,  0.25768024,  0.24092354,\n",
       "        0.22419478,  0.20749839,  0.19083864,  0.17421967,  0.15764549,\n",
       "        0.14112001,  0.12464698,  0.10823006,  0.09187278,  0.07557857,\n",
       "        0.05935075,  0.04319254,  0.02710703,  0.01109726, -0.00483387,\n",
       "       -0.02068353, -0.03644899, -0.05212759, -0.06771679, -0.08321411,\n",
       "       -0.09861714, -0.11392359, -0.1291312 , -0.14423782, -0.15924135,\n",
       "       -0.17413978, -0.18893117, -0.20361362, -0.21818533, -0.23264454,\n",
       "       -0.24698957, -0.26121879, -0.27533064, -0.28932361, -0.30319625,\n",
       "       -0.31694716, -0.33057501, -0.3440785 , -0.35745641, -0.37070753,\n",
       "       -0.38383075, -0.39682497, -0.40968916, -0.42242231, -0.43502347,\n",
       "       -0.44749175, -0.45982628, -0.47202624, -0.48409084, -0.49601936,\n",
       "       -0.50781108, -0.51946534, -0.53098153, -0.54235905, -0.55359734,\n",
       "       -0.5646959 , -0.57565423, -0.58647189, -0.59714846, -0.60768355,\n",
       "       -0.61807681, -0.62832791, -0.63843656, -0.64840249, -0.65822548,\n",
       "       -0.6679053 , -0.67744178, -0.68683476, -0.69608411, -0.70518974,\n",
       "       -0.71415156, -0.72296952, -0.73164359, -0.74017376, -0.74856005,\n",
       "       -0.7568025 , -0.76490116, -0.77285613, -0.7806675 , -0.78833539,\n",
       "       -0.79585996, -0.80324136, -0.81047977, -0.81757539, -0.82452845,\n",
       "       -0.83133918, -0.83800783, -0.84453467, -0.85092   , -0.85716411,\n",
       "       -0.86326733, -0.86922999, -0.87505244, -0.88073504, -0.88627818,\n",
       "       -0.89168225, -0.89694766, -0.90207483, -0.90706419, -0.9119162 ,\n",
       "       -0.9166313 , -0.92120998, -0.92565271, -0.92996   , -0.93413234,\n",
       "       -0.93817027, -0.9420743 , -0.94584498, -0.94948286, -0.9529885 ,\n",
       "       -0.95636246, -0.95960533, -0.9627177 , -0.96570016, -0.96855332,\n",
       "       -0.9712778 , -0.97387422, -0.97634321, -0.97868541, -0.98090147,\n",
       "       -0.98299205, -0.9849578 , -0.9867994 , -0.98851753, -0.99011286,\n",
       "       -0.99158608, -0.9929379 , -0.99416901, -0.99528012, -0.99627195,\n",
       "       -0.99714521, -0.99790063, -0.99853895, -0.99906088, -0.99946719,\n",
       "       -0.9997586 , -0.99993587, -0.99999975, -0.99995101, -0.9997904 ,\n",
       "       -0.99951869, -0.99913664, -0.99864504, -0.99804466, -0.99733628,\n",
       "       -0.99652069, -0.99559867, -0.99457101, -0.9934385 , -0.99220195,\n",
       "       -0.99086214, -0.98941988, -0.98787598, -0.98623123, -0.98448645,\n",
       "       -0.98264244, -0.98070002, -0.97866   , -0.97652319, -0.97429041,\n",
       "       -0.97196248, -0.96954022, -0.96702444, -0.96441598, -0.96171565,\n",
       "       -0.95892427, -0.95604268, -0.95307169, -0.95001214, -0.94686484,\n",
       "       -0.94363063, -0.94031033, -0.93690478, -0.93341479, -0.9298412 ,\n",
       "       -0.92618484, -0.92244653, -0.9186271 , -0.91472739, -0.91074821,\n",
       "       -0.9066904 , -0.90255478, -0.89834218, -0.89405343, -0.88968935,\n",
       "       -0.88525077, -0.8807385 , -0.87615338, -0.87149623, -0.86676786,\n",
       "       -0.8619691 , -0.85710077, -0.85216368, -0.84715866, -0.84208652,\n",
       "       -0.83694807, -0.83174412, -0.8264755 , -0.821143  , -0.81574745,\n",
       "       -0.81028964, -0.80477038, -0.79919047, -0.79355072, -0.78785193,\n",
       "       -0.7820949 , -0.77628042, -0.77040929, -0.7644823 , -0.75850024,\n",
       "       -0.7524639 , -0.74637408, -0.74023154, -0.73403708, -0.72779148,\n",
       "       -0.72149551, -0.71514995, -0.70875558, -0.70231316, -0.69582346,\n",
       "       -0.68928725, -0.6827053 , -0.67607836, -0.6694072 , -0.66269256,\n",
       "       -0.65593521, -0.64913589, -0.64229536, -0.63541436, -0.62849362,\n",
       "       -0.6215339 , -0.61453593, -0.60750045, -0.60042818, -0.59331985,\n",
       "       -0.58617619, -0.57899793, -0.57178578, -0.56454047, -0.5572627 ,\n",
       "       -0.54995318, -0.54261263, -0.53524176, -0.52784125, -0.52041182,\n",
       "       -0.51295415, -0.50546894, -0.49795688, -0.49041866, -0.48285496,\n",
       "       -0.47526646, -0.46765383, -0.46001776, -0.4523589 , -0.44467793,\n",
       "       -0.43697552, -0.42925231, -0.42150898, -0.41374616, -0.40596452,\n",
       "       -0.3981647 , -0.39034735, -0.3825131 , -0.37466259, -0.36679645,\n",
       "       -0.35891532, -0.35101982, -0.34311058, -0.33518822, -0.32725334,\n",
       "       -0.31930657, -0.31134852, -0.30337978, -0.29540097, -0.28741267,\n",
       "       -0.2794155 , -0.27141003, -0.26339686, -0.25537658, -0.24734975,\n",
       "       -0.23931697, -0.23127881, -0.22323583, -0.2151886 , -0.20713769,\n",
       "       -0.19908366, -0.19102707, -0.18296845, -0.17490838, -0.16684739,\n",
       "       -0.15878602, -0.15072481, -0.1426643 , -0.13460502, -0.1265475 ,\n",
       "       -0.11849226, -0.11043982, -0.10239069, -0.0943454 , -0.08630445,\n",
       "       -0.07826835, -0.0702376 , -0.0622127 , -0.05419414, -0.04618242,\n",
       "       -0.03817803, -0.03018144, -0.02219315, -0.01421362, -0.00624334,\n",
       "        0.00171724,  0.00966763,  0.01760738,  0.02553603,  0.03345313,\n",
       "        0.04135821,  0.04925084,  0.05713056,  0.06499694,  0.07284954,\n",
       "        0.08068791,  0.08851164,  0.09632029,  0.10411345,  0.11189068,\n",
       "        0.11965158,  0.12739572,  0.13512271,  0.14283213,  0.15052358,\n",
       "        0.15819667,  0.16585099,  0.17348616,  0.18110178,  0.18869748,\n",
       "        0.19627286,  0.20382756,  0.21136119,  0.21887338,  0.22636378,\n",
       "        0.23383201,  0.24127771,  0.24870052,  0.2561001 ,  0.26347609,\n",
       "        0.27082814,  0.27815591,  0.28545906,  0.29273725,  0.29999015,\n",
       "        0.30721743,  0.31441876,  0.32159382,  0.32874229,  0.33586385,\n",
       "        0.34295818,  0.35002499,  0.35706395,  0.36407478,  0.37105716,\n",
       "        0.3780108 ,  0.38493541,  0.39183069,  0.39869637,  0.40553215,\n",
       "        0.41233775,  0.4191129 ,  0.42585733,  0.43257076,  0.43925292,\n",
       "        0.44590355,  0.4525224 ,  0.45910919,  0.46566368,  0.47218562,\n",
       "        0.47867475,  0.48513083,  0.49155361,  0.49794287,  0.50429835,\n",
       "        0.51061984,  0.51690709,  0.52315989,  0.529378  ,  0.53556121,\n",
       "        0.5417093 ,  0.54782206,  0.55389926,  0.55994071,  0.5659462 ,\n",
       "        0.57191552,  0.57784848,  0.58374487,  0.58960451,  0.5954272 ,\n",
       "        0.60121276,  0.606961  ,  0.61267173,  0.61834479,  0.62397998,\n",
       "        0.62957714,  0.6351361 ,  0.64065669,  0.64613875,  0.6515821 ,\n",
       "        0.6569866 ,  0.66235208,  0.6676784 ,  0.67296539,  0.67821292,\n",
       "        0.68342083,  0.68858899,  0.69371725,  0.69880548,  0.70385354,\n",
       "        0.70886129])"
      ]
     },
     "execution_count": 26,
     "metadata": {},
     "output_type": "execute_result"
    }
   ],
   "source": [
    "x = np.arange(0, 50.1, 0.1)\n",
    "y = np.sin(x**(1/2))\n",
    "\n",
    "function3(x)"
   ]
  },
  {
   "cell_type": "code",
   "execution_count": 27,
   "metadata": {},
   "outputs": [],
   "source": [
    "xy, gradient3 = compute_gradient(function3(x), x)"
   ]
  },
  {
   "cell_type": "code",
   "execution_count": 28,
   "metadata": {},
   "outputs": [
    {
     "data": {
      "image/png": "[encoded data removed]",
      "text/plain": [
       "<Figure size 432x288 with 1 Axes>"
      ]
     },
     "metadata": {
      "needs_background": "light"
     },
     "output_type": "display_data"
    }
   ],
   "source": [
    "#y=sin(x^(1/2))のグラフ\n",
    "plt.plot(x, y)  # x, y をプロット\n",
    "plt.show()  # グラフを表示"
   ]
  },
  {
   "cell_type": "code",
   "execution_count": 29,
   "metadata": {},
   "outputs": [
    {
     "data": {
      "image/png": "[encoded data removed]",
      "text/plain": [
       "<Figure size 432x288 with 1 Axes>"
      ]
     },
     "metadata": {
      "needs_background": "light"
     },
     "output_type": "display_data"
    }
   ],
   "source": [
    "#xと勾配のグラフ\n",
    "plt.plot(x[1:], gradient3)  # x, y をプロット\n",
    "plt.show()  # グラフを表示"
   ]
  },
  {
   "cell_type": "markdown",
   "metadata": {},
   "source": [
    "# 【問題6】最小値を求める\n",
    "np.arangeで小数を扱うには注意が必要  \n",
    "参考URL  \n",
    "https://snowtree-injune.com/2019/07/07/arange-linspace/"
   ]
  },
  {
   "cell_type": "markdown",
   "metadata": {},
   "source": [
    "$\n",
    "・y = x^2　(-50\\leqq x\\leqq50)\n",
    "$"
   ]
  },
  {
   "cell_type": "code",
   "execution_count": 30,
   "metadata": {},
   "outputs": [],
   "source": [
    "x = np.arange(-50, 50.1, 0.1)\n",
    "y = x**2"
   ]
  },
  {
   "cell_type": "code",
   "execution_count": 31,
   "metadata": {},
   "outputs": [
    {
     "data": {
      "text/plain": [
       "(1001,)"
      ]
     },
     "execution_count": 31,
     "metadata": {},
     "output_type": "execute_result"
    }
   ],
   "source": [
    "x.shape"
   ]
  },
  {
   "cell_type": "code",
   "execution_count": 32,
   "metadata": {},
   "outputs": [
    {
     "data": {
      "text/plain": [
       "50.00000000000142"
      ]
     },
     "execution_count": 32,
     "metadata": {},
     "output_type": "execute_result"
    }
   ],
   "source": [
    "x[1000]  #結果が50ではない"
   ]
  },
  {
   "cell_type": "code",
   "execution_count": 33,
   "metadata": {},
   "outputs": [
    {
     "data": {
      "text/plain": [
       "7.105427357601002e-13"
      ]
     },
     "execution_count": 33,
     "metadata": {},
     "output_type": "execute_result"
    }
   ],
   "source": [
    "x[500]  #結果が0ではない"
   ]
  },
  {
   "cell_type": "code",
   "execution_count": 34,
   "metadata": {},
   "outputs": [
    {
     "data": {
      "text/plain": [
       "5.048709793414476e-25"
      ]
     },
     "execution_count": 34,
     "metadata": {},
     "output_type": "execute_result"
    }
   ],
   "source": [
    "y.min() #結果が0ではない"
   ]
  },
  {
   "cell_type": "code",
   "execution_count": 35,
   "metadata": {},
   "outputs": [
    {
     "data": {
      "text/plain": [
       "500"
      ]
     },
     "execution_count": 35,
     "metadata": {},
     "output_type": "execute_result"
    }
   ],
   "source": [
    "y.argmin()"
   ]
  },
  {
   "cell_type": "code",
   "execution_count": 36,
   "metadata": {},
   "outputs": [
    {
     "data": {
      "text/plain": [
       "5.048709793414476e-25"
      ]
     },
     "execution_count": 36,
     "metadata": {},
     "output_type": "execute_result"
    }
   ],
   "source": [
    "y[500]  #結果が0ではない"
   ]
  },
  {
   "cell_type": "code",
   "execution_count": 37,
   "metadata": {},
   "outputs": [
    {
     "data": {
      "text/plain": [
       "5.048709793414476e-25"
      ]
     },
     "execution_count": 37,
     "metadata": {},
     "output_type": "execute_result"
    }
   ],
   "source": [
    "#最小値\n",
    "y.min()"
   ]
  },
  {
   "cell_type": "code",
   "execution_count": 38,
   "metadata": {},
   "outputs": [
    {
     "data": {
      "text/plain": [
       "500"
      ]
     },
     "execution_count": 38,
     "metadata": {},
     "output_type": "execute_result"
    }
   ],
   "source": [
    "#最小値のインデックス\n",
    "y.argmin()"
   ]
  },
  {
   "cell_type": "code",
   "execution_count": 39,
   "metadata": {},
   "outputs": [
    {
     "data": {
      "text/plain": [
       "-0.09999999999858034"
      ]
     },
     "execution_count": 39,
     "metadata": {},
     "output_type": "execute_result"
    }
   ],
   "source": [
    "#最小のyをとる前の勾配\n",
    "(y[500] - y[499]) / (x[500] - x[499])"
   ]
  },
  {
   "cell_type": "code",
   "execution_count": 40,
   "metadata": {},
   "outputs": [
    {
     "data": {
      "text/plain": [
       "0.1000000000014225"
      ]
     },
     "execution_count": 40,
     "metadata": {},
     "output_type": "execute_result"
    }
   ],
   "source": [
    "#最小のyをとる後の勾配\n",
    "(y[501] - y[500]) / (x[501] - x[500])"
   ]
  },
  {
   "cell_type": "markdown",
   "metadata": {},
   "source": [
    "$\n",
    "・y=2x^2+2^x　(-50\\leqq x\\leqq50)\n",
    "$"
   ]
  },
  {
   "cell_type": "code",
   "execution_count": 41,
   "metadata": {},
   "outputs": [],
   "source": [
    "x = np.arange(-50, 50.1, 0.1)\n",
    "y = 2*x**2 + 2**x"
   ]
  },
  {
   "cell_type": "code",
   "execution_count": 42,
   "metadata": {},
   "outputs": [
    {
     "data": {
      "text/plain": [
       "0.9505505632959851"
      ]
     },
     "execution_count": 42,
     "metadata": {},
     "output_type": "execute_result"
    }
   ],
   "source": [
    "#最小値\n",
    "y.min()"
   ]
  },
  {
   "cell_type": "code",
   "execution_count": 43,
   "metadata": {},
   "outputs": [
    {
     "data": {
      "text/plain": [
       "498"
      ]
     },
     "execution_count": 43,
     "metadata": {},
     "output_type": "execute_result"
    }
   ],
   "source": [
    "#最小値のインデックス\n",
    "y.argmin()"
   ]
  },
  {
   "cell_type": "code",
   "execution_count": 44,
   "metadata": {},
   "outputs": [
    {
     "data": {
      "text/plain": [
       "-0.4170183305979998"
      ]
     },
     "execution_count": 44,
     "metadata": {},
     "output_type": "execute_result"
    }
   ],
   "source": [
    "#最小のyをとる前の勾配\n",
    "(y[498] - y[497]) / (x[498] - x[497])"
   ]
  },
  {
   "cell_type": "code",
   "execution_count": 45,
   "metadata": {},
   "outputs": [
    {
     "data": {
      "text/plain": [
       "0.024824282409972788"
      ]
     },
     "execution_count": 45,
     "metadata": {},
     "output_type": "execute_result"
    }
   ],
   "source": [
    "#最小のyをとる後の勾配\n",
    "(y[499] - y[498]) / (x[499] - x[498])"
   ]
  },
  {
   "cell_type": "markdown",
   "metadata": {},
   "source": [
    "$\n",
    "・y = \\mathrm{sin}(x^\\frac{1}{2}) \\quad (0\\leqq x\\leqq50)\n",
    "$"
   ]
  },
  {
   "cell_type": "code",
   "execution_count": 46,
   "metadata": {},
   "outputs": [],
   "source": [
    "x = np.arange(0, 50.1, 0.1)\n",
    "y = np.sin(x**(1/2))"
   ]
  },
  {
   "cell_type": "code",
   "execution_count": 47,
   "metadata": {},
   "outputs": [
    {
     "data": {
      "text/plain": [
       "-0.9999997540298113"
      ]
     },
     "execution_count": 47,
     "metadata": {},
     "output_type": "execute_result"
    }
   ],
   "source": [
    "#最小値\n",
    "y.min()"
   ]
  },
  {
   "cell_type": "code",
   "execution_count": 48,
   "metadata": {},
   "outputs": [
    {
     "data": {
      "text/plain": [
       "222"
      ]
     },
     "execution_count": 48,
     "metadata": {},
     "output_type": "execute_result"
    }
   ],
   "source": [
    "#最小値のインデックス\n",
    "y.argmin()"
   ]
  },
  {
   "cell_type": "code",
   "execution_count": 49,
   "metadata": {},
   "outputs": [
    {
     "data": {
      "text/plain": [
       "-0.0006388422559544435"
      ]
     },
     "execution_count": 49,
     "metadata": {},
     "output_type": "execute_result"
    }
   ],
   "source": [
    "#最小のyをとる前の勾配\n",
    "(y[222] - y[221]) / (x[222] - x[221])"
   ]
  },
  {
   "cell_type": "code",
   "execution_count": 50,
   "metadata": {},
   "outputs": [
    {
     "data": {
      "text/plain": [
       "0.0004874477930660974"
      ]
     },
     "execution_count": 50,
     "metadata": {},
     "output_type": "execute_result"
    }
   ],
   "source": [
    "#最小のyをとる後の勾配\n",
    "(y[223] - y[222]) / (x[223] - x[222])"
   ]
  }
 ],
 "metadata": {
  "kernelspec": {
   "display_name": "Python 3",
   "language": "python",
   "name": "python3"
  },
  "language_info": {
   "codemirror_mode": {
    "name": "ipython",
    "version": 3
   },
   "file_extension": ".py",
   "mimetype": "text/x-python",
   "name": "python",
   "nbconvert_exporter": "python",
   "pygments_lexer": "ipython3",
   "version": "3.7.4"
  }
 },
 "nbformat": 4,
 "nbformat_minor": 2
}
