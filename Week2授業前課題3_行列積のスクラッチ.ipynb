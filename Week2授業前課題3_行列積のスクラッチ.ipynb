{
 "cells": [
  {
   "cell_type": "markdown",
   "metadata": {},
   "source": [
    "## 【問題1】行列積を手計算する\n",
    "参考URL  \n",
    "https://jsciencer.com/higschmath/matrix/665/  \n",
    "https://oversleptabit.com/archives/5173"
   ]
  },
  {
   "cell_type": "markdown",
   "metadata": {},
   "source": [
    "行列積の1行1列目の値を計算\n",
    "Aの1行目「-1, 2, 3」、Bの1列目「0, 0, 2」をかけて足す\n",
    "-1×0＋2×0＋3×2＝6\n",
    "\n",
    "行列積の1行2列目の計算\n",
    "Aの1行目「-1, 2, 3」、Bの1列目「2, 2, 9」をかけて足す\n",
    "-1×2＋2×2＋3×9＝29\n",
    "\n",
    "行列積の1行3列目の計算\n",
    "Aの1行目「-1, 2, 3」、Bの1列目「1, -8, -1」をかけて足す\n",
    "-1×1＋2×(-8)＋3×(-1)＝-20\n",
    "\n",
    "行列積の2行1列目の値を計算\n",
    "Aの1行目「4, -5, 6」、Bの1列目「0, 0, 2」をかけて足す\n",
    "4×0＋(-5)×0＋6×2＝12\n",
    "\n",
    "行列積の2行2列目の計算\n",
    "Aの1行目「4, -5, 6」、Bの1列目「2, 2, 9」をかけて足す\n",
    "4×2＋(-5)×2＋6×9＝52\n",
    "\n",
    "行列積の2行3列目の計算\n",
    "Aの1行目「4, -5, 6」、Bの1列目「1, -8, -1」をかけて足す\n",
    "4×1＋(-5)×(-8)＋6×(-1)＝38\n",
    "\n",
    "行列積の3行1列目の値を計算\n",
    "Aの1行目「7, 8, -9」、Bの1列目「0, 0, 2」をかけて足す\n",
    "7×0＋8×0＋(-9)×2＝-18\n",
    "\n",
    "行列積の3行2列目の計算\n",
    "Aの1行目「7, 8, -9」、Bの1列目「2, 2, 9」をかけて足す\n",
    "7×2＋8×2＋(-9)×9＝-51\n",
    "\n",
    "行列積の3行3列目の計算\n",
    "Aの1行目「7, 8, -9」、Bの1列目「1, -8, -1」をかけて足す\n",
    "7×1＋8×(-8)＋(-9)×(-1)＝-48\n",
    "\n",
    "\\begin{pmatrix}\n",
    "6 & 29 & -20\\\\\n",
    "12 & 52 & 38 \\\\\n",
    "-18 & -51 & -48\n",
    "\\end{pmatrix}"
   ]
  },
  {
   "cell_type": "markdown",
   "metadata": {},
   "source": [
    "## 【問題2】NumPyの関数による計算\n",
    "参考URL  \n",
    "https://note.nkmk.me/python-numpy-matrix/"
   ]
  },
  {
   "cell_type": "code",
   "execution_count": 1,
   "metadata": {},
   "outputs": [
    {
     "name": "stdout",
     "output_type": "stream",
     "text": [
      "[[  6  29 -20]\n",
      " [ 12  52  38]\n",
      " [-18 -51 -48]]\n"
     ]
    }
   ],
   "source": [
    "import numpy as np\n",
    "a_ndarray = np.array([[-1, 2, 3], [4, -5, 6], [7, 8, -9]])\n",
    "b_ndarray = np.array([[0, 2, 1], [0, 2, -8], [2, 9, -1]])\n",
    "\n",
    "print(np.matmul(a_ndarray, b_ndarray))"
   ]
  },
  {
   "cell_type": "code",
   "execution_count": 2,
   "metadata": {},
   "outputs": [
    {
     "name": "stdout",
     "output_type": "stream",
     "text": [
      "[[  6  29 -20]\n",
      " [ 12  52  38]\n",
      " [-18 -51 -48]]\n"
     ]
    }
   ],
   "source": [
    "print(a_ndarray @ b_ndarray)"
   ]
  },
  {
   "cell_type": "markdown",
   "metadata": {},
   "source": [
    "## 【問題3】ある要素の計算を実装"
   ]
  },
  {
   "cell_type": "code",
   "execution_count": 3,
   "metadata": {},
   "outputs": [
    {
     "name": "stdout",
     "output_type": "stream",
     "text": [
      "6\n"
     ]
    }
   ],
   "source": [
    "a0k = a_ndarray[0:1,:] #1行3列\n",
    "bk0 = b_ndarray[:, 0:1].reshape(1, 3) #3行1列を1行3列に\n",
    "kakeru = a0k * bk0\n",
    "tasu = np.sum(kakeru)\n",
    "print(tasu)"
   ]
  },
  {
   "cell_type": "markdown",
   "metadata": {},
   "source": [
    "## 【問題4】行列積を行う関数の作成\n",
    "参考URL  \n",
    "https://snowtree-injune.com/2019/11/23/matrix-product/"
   ]
  },
  {
   "cell_type": "code",
   "execution_count": 4,
   "metadata": {},
   "outputs": [
    {
     "name": "stdout",
     "output_type": "stream",
     "text": [
      "[[  6.  29. -20.]\n",
      " [ 12.  52.  38.]\n",
      " [-18. -51. -48.]]\n"
     ]
    }
   ],
   "source": [
    "def gyouretsuseki (a = a_ndarray, b = b_ndarray):\n",
    "    x = np.zeros(a_ndarray.shape)\n",
    "    ii = 3\n",
    "    kk = 3\n",
    "    jj = 3\n",
    "    for i in range(ii):\n",
    "        for j in range(jj):\n",
    "            for k in range(kk):\n",
    "                x[i][j] = x[i][j] + a[i][k] * b[k][j]\n",
    "    return x\n",
    "print(gyouretsuseki())"
   ]
  },
  {
   "cell_type": "markdown",
   "metadata": {},
   "source": [
    "## 【問題5】計算が定義されない入力を判定する\n",
    "参考URL  \n",
    "https://note.nkmk.me/python-numpy-ndarray-ndim-shape-size/"
   ]
  },
  {
   "cell_type": "code",
   "execution_count": 5,
   "metadata": {},
   "outputs": [
    {
     "ename": "SyntaxError",
     "evalue": "unexpected EOF while parsing (<ipython-input-5-e7080e74e36d>, line 4)",
     "output_type": "error",
     "traceback": [
      "\u001b[0;36m  File \u001b[0;32m\"<ipython-input-5-e7080e74e36d>\"\u001b[0;36m, line \u001b[0;32m4\u001b[0m\n\u001b[0;31m    print(gyouretsuseki(d_ndarray, e_ndarray)\u001b[0m\n\u001b[0m                                             ^\u001b[0m\n\u001b[0;31mSyntaxError\u001b[0m\u001b[0;31m:\u001b[0m unexpected EOF while parsing\n"
     ]
    }
   ],
   "source": [
    "d_ndarray = np.array([[-1, 2, 3], [4, -5, 6]])\n",
    "e_ndarray = np.array([[-9, 8, 7], [6, -5, 4]])\n",
    "\n",
    "print(gyouretsuseki(d_ndarray, e_ndarray)"
   ]
  },
  {
   "cell_type": "code",
   "execution_count": 6,
   "metadata": {},
   "outputs": [
    {
     "name": "stdout",
     "output_type": "stream",
     "text": [
      "[[  6.  29. -20.]\n",
      " [ 12.  52.  38.]\n",
      " [-18. -51. -48.]]\n",
      "列数と行数が異なるため計算できません\n"
     ]
    }
   ],
   "source": [
    "d_ndarray = np.array([[-1, 2, 3], [4, -5, 6]])\n",
    "e_ndarray = np.array([[-9, 8, 7], [6, -5, 4]])\n",
    "\n",
    "def gyouretsuseki2 (a = a_ndarray, b = b_ndarray):\n",
    "    if a.shape[1] == b.shape[0]:\n",
    "        x = np.zeros(a_ndarray.shape)\n",
    "        ii = a.shape[0]\n",
    "        kk = a.shape[1]\n",
    "        jj = b.shape[1]\n",
    "        for i in range(ii):\n",
    "            for j in range(jj):\n",
    "                for k in range(kk):\n",
    "                    x[i][j] = x[i][j] + a[i][k] * b[k][j]\n",
    "        return x\n",
    "    else:\n",
    "        return \"列数と行数が異なるため計算できません\"\n",
    "    \n",
    "print(gyouretsuseki2())\n",
    "print(gyouretsuseki2(d_ndarray, e_ndarray))"
   ]
  },
  {
   "cell_type": "markdown",
   "metadata": {},
   "source": [
    "## 【問題6】転置\n",
    "参考URL  \n",
    "https://risalc.info/src/transpose-matrix-properties.html"
   ]
  },
  {
   "cell_type": "code",
   "execution_count": 7,
   "metadata": {},
   "outputs": [
    {
     "name": "stdout",
     "output_type": "stream",
     "text": [
      "[[  6  29 -20]\n",
      " [ 12  52  38]\n",
      " [-18 -51 -48]]\n"
     ]
    }
   ],
   "source": [
    "ten_a = np.transpose(a_ndarray)\n",
    "ten_b = np.transpose(b_ndarray)\n",
    "toi6 = np.transpose(ten_b @ ten_a)\n",
    "print(toi6)"
   ]
  },
  {
   "cell_type": "code",
   "execution_count": 8,
   "metadata": {},
   "outputs": [
    {
     "name": "stdout",
     "output_type": "stream",
     "text": [
      "[[  6  29 -20]\n",
      " [ 12  52  38]\n",
      " [-18 -51 -48]]\n"
     ]
    }
   ],
   "source": [
    "ten_a = (a_ndarray).T\n",
    "ten_b = (b_ndarray).T\n",
    "toi6 = (ten_b @ ten_a).T\n",
    "print(toi6)"
   ]
  }
 ],
 "metadata": {
  "kernelspec": {
   "display_name": "Python 3",
   "language": "python",
   "name": "python3"
  },
  "language_info": {
   "codemirror_mode": {
    "name": "ipython",
    "version": 3
   },
   "file_extension": ".py",
   "mimetype": "text/x-python",
   "name": "python",
   "nbconvert_exporter": "python",
   "pygments_lexer": "ipython3",
   "version": "3.7.4"
  }
 },
 "nbformat": 4,
 "nbformat_minor": 2
}
